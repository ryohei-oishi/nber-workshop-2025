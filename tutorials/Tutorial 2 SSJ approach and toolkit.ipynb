{
 "cells": [
  {
   "cell_type": "markdown",
   "id": "15fe58e8",
   "metadata": {},
   "source": [
    "# Tutorial 2: SSJ approach and toolkit\n",
    "NBER Heterogeneous-Agent Macro Workshop\n",
    "\n",
    "June 2025\n",
    "\n",
    "This notebook aims to give a ground-up introduction to the SSJ toolkit.\n",
    "\n",
    "Start with our usual imports:"
   ]
  },
  {
   "cell_type": "code",
   "execution_count": 1,
   "id": "0072f604",
   "metadata": {},
   "outputs": [],
   "source": [
    "import numpy as np\n",
    "import matplotlib.pyplot as plt\n",
    "from scipy import optimize\n",
    "import sequence_jacobian as sj"
   ]
  },
  {
   "cell_type": "markdown",
   "id": "636d7cc5",
   "metadata": {},
   "source": [
    "# Building blocks of SSJ toolkit: a simple example\n",
    "The toolkit is built around *blocks*, which are pieces of an economic model, each of which takes in some aggregate inputs and produces some aggregate outputs.\n",
    "\n",
    "You've already seen `HetBlock`, the most complicated block, in Ludwig's lecture. But there is also a much simpler block, named `SimpleBlock`, where we can specify aggregate equations. We can use Dynare-style notation, with e.g. `(-1)` or `(4)` in parentheses after a variable, to denote that we want to take a lag of 1 or a lead of 4 of the variable in that place."
   ]
  },
  {
   "cell_type": "code",
   "execution_count": 2,
   "id": "32c4e8bf",
   "metadata": {},
   "outputs": [],
   "source": [
    "@sj.simple\n",
    "def production(A, K, L, alpha):\n",
    "    Y = A * K(-1)**alpha * L**(1 - alpha)\n",
    "    MPK = alpha * Y / K(-1)\n",
    "    MPL = (1 - alpha) * Y / L\n",
    "    return Y, MPK, MPL"
   ]
  },
  {
   "cell_type": "markdown",
   "id": "e3bb17c5",
   "metadata": {},
   "source": [
    "For a `SimpleBlock`, the toolkit will understand as inputs anything that's an input to the function. We name the outputs by giving them names and returning the names. (We couldn't have done just `return K(-1)**alpha * L**(1 - alpha)`, like we might ordinarily try in Python, because then it wouldn't know that this is supposed to be called `Y`.)"
   ]
  },
  {
   "cell_type": "code",
   "execution_count": 3,
   "id": "9dfdf168",
   "metadata": {},
   "outputs": [
    {
     "name": "stdout",
     "output_type": "stream",
     "text": [
      "<SimpleBlock 'production'>\n",
      "['A', 'K', 'L', 'alpha']\n",
      "['Y', 'MPK', 'MPL']\n"
     ]
    }
   ],
   "source": [
    "print(production)\n",
    "print(production.inputs)\n",
    "print(production.outputs)"
   ]
  },
  {
   "cell_type": "markdown",
   "id": "9f1e4f4d",
   "metadata": {},
   "source": [
    "Each block (not just a SimpleBlock!) has four core methods that can be called on it: `.steady_state()`, `.impulse_linear()`, `.impulse_nonlinear()`, and `.jacobian()`. Each of these four methods has a \"solve\" counterpart: `.solve_steady_state()`, `.solve_impulse_linear()`, `.solve_impulse_nonlinear()`, and `.solve_jacobian()`.\n",
    "\n",
    "### Steady state\n",
    "\n",
    "First, we'll try `.steady_state()`, which is called on a Python dict that must include all inputs to the block:"
   ]
  },
  {
   "cell_type": "code",
   "execution_count": 4,
   "id": "c917a4cb",
   "metadata": {},
   "outputs": [
    {
     "data": {
      "text/plain": [
       "<SteadyStateDict: ['A', 'K', 'L', 'alpha', 'Y', 'MPK', 'MPL']>"
      ]
     },
     "execution_count": 4,
     "metadata": {},
     "output_type": "execute_result"
    }
   ],
   "source": [
    "calibration = {'A': 1, 'K': 4, 'L': 1, 'alpha': 0.3}\n",
    "ss = production.steady_state(calibration)\n",
    "ss"
   ]
  },
  {
   "cell_type": "markdown",
   "id": "fbb36e33",
   "metadata": {},
   "source": [
    "As output we get a `SteadyStateDict`, a slightly glorified version of a regular Python dict. The main differences emerge for more complex blocks like `HetBlock`, where the `internals` field of the `SteadyStateDict` contains detailed information (like the micro-level policy function) that doesn't appear at the top level. For now, it's pretty much the same, and indeed we can easily convert it to a regular Python dict:"
   ]
  },
  {
   "cell_type": "code",
   "execution_count": 5,
   "id": "355dc043",
   "metadata": {},
   "outputs": [
    {
     "data": {
      "text/plain": [
       "{'A': 1,\n",
       " 'K': 4,\n",
       " 'L': 1,\n",
       " 'alpha': 0.3,\n",
       " 'Y': 1.515716566510398,\n",
       " 'MPK': 0.11367874248827985,\n",
       " 'MPL': 1.0610015965572785}"
      ]
     },
     "execution_count": 5,
     "metadata": {},
     "output_type": "execute_result"
    }
   ],
   "source": [
    "dict(**ss)"
   ]
  },
  {
   "cell_type": "markdown",
   "id": "33db79c9",
   "metadata": {},
   "source": [
    "We might want to hit some calibration targets. For instance, maybe we have a target for the `MPK` of 0.1, given by some measure of user cost $r+\\delta$. Maybe we also want to normalize `Y` to 1, while keeping `K` at 4 so that we have a capital-output ratio of 4.\n",
    "\n",
    "In this situation, we can call `.solve_steady_state()` with an `unknowns` argument that tells what we're solving for and some initial values for the solver, and `targets` telling us what we want to hit."
   ]
  },
  {
   "cell_type": "code",
   "execution_count": 6,
   "id": "603fb0bf",
   "metadata": {},
   "outputs": [],
   "source": [
    "ss = production.solve_steady_state(calibration, unknowns={'A':1., 'alpha': 0.5}, targets={'Y': 1, 'MPK': 0.1})"
   ]
  },
  {
   "cell_type": "markdown",
   "id": "3bb8a3b5",
   "metadata": {},
   "source": [
    "Let's verify that we successfully hit our targets (at least up to small numerical error):"
   ]
  },
  {
   "cell_type": "code",
   "execution_count": 7,
   "id": "c45d7108",
   "metadata": {},
   "outputs": [
    {
     "data": {
      "text/plain": [
       "(1.0000000000000355, 0.10000000000001079)"
      ]
     },
     "execution_count": 7,
     "metadata": {},
     "output_type": "execute_result"
    }
   ],
   "source": [
    "ss['Y'], ss['MPK']"
   ]
  },
  {
   "cell_type": "markdown",
   "id": "e1083b78",
   "metadata": {},
   "source": [
    "What are the values of `A` and `alpha` that we needed for this?"
   ]
  },
  {
   "cell_type": "code",
   "execution_count": 8,
   "id": "e8906677",
   "metadata": {},
   "outputs": [
    {
     "data": {
      "text/plain": [
       "(0.5743491774985149, 0.40000000000002894)"
      ]
     },
     "execution_count": 8,
     "metadata": {},
     "output_type": "execute_result"
    }
   ],
   "source": [
    "ss['A'], ss['alpha']"
   ]
  },
  {
   "cell_type": "markdown",
   "id": "6e7756e5",
   "metadata": {},
   "source": [
    "Note that `.solve_steady_state()` is a thin wrapper around `.steady_state()`, and in trickier cases it can be useful just use `.steady_state()` and do the nonlinear solution yourself, so that you have more control.\n",
    "\n",
    "We could do comparative statics across steady states—for instance, seeing how, within this calibrated model, Y, MPK, and MPL will vary as we change L:"
   ]
  },
  {
   "cell_type": "code",
   "execution_count": 9,
   "id": "ff380fe8",
   "metadata": {},
   "outputs": [],
   "source": [
    "Ls = np.linspace(0.5, 1.5, 11)\n",
    "ss_counterfactuals = [production.steady_state({**ss, 'L': L}) for L in Ls]"
   ]
  },
  {
   "cell_type": "code",
   "execution_count": 10,
   "id": "f283307a",
   "metadata": {},
   "outputs": [
    {
     "data": {
      "image/png": "[encoded data removed]",
      "text/plain": [
       "<Figure size 640x480 with 1 Axes>"
      ]
     },
     "metadata": {},
     "output_type": "display_data"
    }
   ],
   "source": [
    "Ys, MPKs, MPLs = zip(*[(ss['Y'], ss['MPK'], ss['MPL']) for ss in ss_counterfactuals])\n",
    "plt.plot(Ls, Ys, label='Y')\n",
    "plt.plot(Ls, MPKs, label='MPK')\n",
    "plt.plot(Ls, MPLs, label='MPL')\n",
    "plt.xlabel('Labor (L)')\n",
    "plt.axvline(ss['L'], color='k', linestyle='--', label='steady state L')\n",
    "plt.legend();"
   ]
  },
  {
   "cell_type": "markdown",
   "id": "25d72355",
   "metadata": {},
   "source": [
    "### Jacobians and impulses\n",
    "Now let's get to more advanced functionality of the toolkit. The `.jacobian()` command can calculate the Jacobian of any *outputs* of a block with respect to any *inputs*.\n",
    "\n",
    "For more complex blocks, this is just a matrix, and we need to specify the dimension `T`. But for a `SimpleBlock`, that's not strictly necessary:"
   ]
  },
  {
   "cell_type": "code",
   "execution_count": 11,
   "id": "092f869e",
   "metadata": {},
   "outputs": [
    {
     "data": {
      "text/plain": [
       "<JacobianDict outputs=['Y', 'MPL'], inputs=['K', 'L']>"
      ]
     },
     "execution_count": 11,
     "metadata": {},
     "output_type": "execute_result"
    }
   ],
   "source": [
    "J = production.jacobian(ss, inputs=['K', 'L'], outputs=['Y', 'MPL'])\n",
    "J"
   ]
  },
  {
   "cell_type": "markdown",
   "id": "8d5d58ee",
   "metadata": {},
   "source": [
    "A `JacobianDict` is a nested dict with some special functionality. If we want to extract the Jacobian of `Y` with respect to `K`, for instance, we can write:"
   ]
  },
  {
   "cell_type": "code",
   "execution_count": 12,
   "id": "ab82a1d4",
   "metadata": {},
   "outputs": [
    {
     "data": {
      "text/plain": [
       "SimpleSparse({(-1, 0): 0.100})"
      ]
     },
     "execution_count": 12,
     "metadata": {},
     "output_type": "execute_result"
    }
   ],
   "source": [
    "J['Y', 'K']"
   ]
  },
  {
   "cell_type": "markdown",
   "id": "65708005",
   "metadata": {},
   "source": [
    "Here the toolkit returns a `SimpleSparse` rather than an ordinary matrix, because the Jacobian of a simple block has such a simple structure (in this case, the diagonal one below the main diagonal being constant at 0.1, with nothing missing) that the toolkit wants to take advantage of that, and avoid wasteful large matrix computations.\n",
    "\n",
    "We can ask to see an actual matrix version if we want:"
   ]
  },
  {
   "cell_type": "code",
   "execution_count": 13,
   "id": "7ee5af05",
   "metadata": {},
   "outputs": [
    {
     "data": {
      "text/plain": [
       "array([[0. , 0. , 0. , 0. , 0. ],\n",
       "       [0.1, 0. , 0. , 0. , 0. ],\n",
       "       [0. , 0.1, 0. , 0. , 0. ],\n",
       "       [0. , 0. , 0.1, 0. , 0. ],\n",
       "       [0. , 0. , 0. , 0.1, 0. ]])"
      ]
     },
     "execution_count": 13,
     "metadata": {},
     "output_type": "execute_result"
    }
   ],
   "source": [
    "J['Y', 'K'].matrix(5)"
   ]
  },
  {
   "cell_type": "markdown",
   "id": "8bc3f53f",
   "metadata": {},
   "source": [
    "A `JacobianDict` can be applied to a dict giving a time-varying sequence of inputs, and it will automatically compute the implied time-varying sequence of outputs. (If it has matrices rather than `SimpleSparse`, the dimension `T` needs to agree.)"
   ]
  },
  {
   "cell_type": "code",
   "execution_count": 14,
   "id": "0d128390",
   "metadata": {},
   "outputs": [
    {
     "data": {
      "text/plain": [
       "<ImpulseDict: ['K', 'L', 'Y', 'MPL']>"
      ]
     },
     "execution_count": 14,
     "metadata": {},
     "output_type": "execute_result"
    }
   ],
   "source": [
    "dL = 0.5 * 0.9**np.arange(25)\n",
    "dK = 2 * 0.5**np.arange(25)\n",
    "impulse = J @ {'K': dK, 'L': dL}\n",
    "impulse"
   ]
  },
  {
   "cell_type": "markdown",
   "id": "a7425ecc",
   "metadata": {},
   "source": [
    "Now we have an `ImpulseDict`, a slightly glorified dictionary specialized for impulse responses, which includes both the shocks we fed in and the outputs given by the Jacobian. Let's plot what we see. In this case, note the nonmonotonic responses of `Y` and `MPL`, since the capital input is lagged, so the positive shock to capital in the first period doesn't show up:"
   ]
  },
  {
   "cell_type": "code",
   "execution_count": 15,
   "id": "6ca86411",
   "metadata": {},
   "outputs": [
    {
     "data": {
      "image/png": "[encoded data removed]",
      "text/plain": [
       "<Figure size 640x480 with 1 Axes>"
      ]
     },
     "metadata": {},
     "output_type": "display_data"
    }
   ],
   "source": [
    "for k, v in impulse.items():\n",
    "    plt.plot(v, label=k)\n",
    "plt.legend();"
   ]
  },
  {
   "cell_type": "markdown",
   "id": "03827078",
   "metadata": {},
   "source": [
    "The `.impulse_linear()` method does what we just saw with the Jacobian in a single step, feeding through an impulse to the linearized block:"
   ]
  },
  {
   "cell_type": "code",
   "execution_count": 16,
   "id": "ff9e4fd9",
   "metadata": {},
   "outputs": [
    {
     "data": {
      "text/plain": [
       "<ImpulseDict: ['K', 'L', 'Y', 'MPL']>"
      ]
     },
     "execution_count": 16,
     "metadata": {},
     "output_type": "execute_result"
    }
   ],
   "source": [
    "impulse2 = production.impulse_linear(ss, inputs={'K': dK, 'L': dL}, outputs=['Y', 'MPL'])\n",
    "impulse2"
   ]
  },
  {
   "cell_type": "markdown",
   "id": "2258c2d5",
   "metadata": {},
   "source": [
    "We can do arithmetic on impulses, so let's subtract these to make sure we get zeros:"
   ]
  },
  {
   "cell_type": "code",
   "execution_count": 17,
   "id": "b9a75f25",
   "metadata": {},
   "outputs": [
    {
     "data": {
      "text/plain": [
       "[True, True, True, True]"
      ]
     },
     "execution_count": 17,
     "metadata": {},
     "output_type": "execute_result"
    }
   ],
   "source": [
    "impulse_diff = impulse2 - impulse\n",
    "[np.allclose(impulse_diff[k], 0) for k in impulse_diff.keys()]"
   ]
  },
  {
   "cell_type": "markdown",
   "id": "a82d744d",
   "metadata": {},
   "source": [
    "The `.impulse_nonlinear()` method is similar, but looks at the *nonlinear* impulse effect of the input shocks on the output. If we just take the shocks above, which are fairly large relative to the steady state, this will be noticeably different from the linearized dynamics:"
   ]
  },
  {
   "cell_type": "code",
   "execution_count": 18,
   "id": "2e8f73f8",
   "metadata": {},
   "outputs": [
    {
     "data": {
      "text/plain": [
       "<ImpulseDict: ['Y', 'MPL']>"
      ]
     },
     "execution_count": 18,
     "metadata": {},
     "output_type": "execute_result"
    }
   ],
   "source": [
    "impulse_nonlinear = production.impulse_nonlinear(ss, inputs={'K': dK, 'L': dL}, outputs=['Y', 'MPL'])\n",
    "impulse_nonlinear"
   ]
  },
  {
   "cell_type": "code",
   "execution_count": 19,
   "id": "d5e2a4f9",
   "metadata": {},
   "outputs": [
    {
     "data": {
      "image/png": "[encoded data removed]",
      "text/plain": [
       "<Figure size 640x480 with 1 Axes>"
      ]
     },
     "metadata": {},
     "output_type": "display_data"
    }
   ],
   "source": [
    "plt.plot(impulse_nonlinear['Y'], label='Y (nonlinear)')\n",
    "plt.plot(impulse['Y'], label='Y (linear)')\n",
    "plt.legend();"
   ]
  },
  {
   "cell_type": "markdown",
   "id": "83c41bef",
   "metadata": {},
   "source": [
    "### Combining and solving blocks\n",
    "Now let's suppose that we have a labor supply equation that depends just on the current real wage. We'll write this as a SimpleBlock."
   ]
  },
  {
   "cell_type": "code",
   "execution_count": 20,
   "id": "e58db3c1",
   "metadata": {},
   "outputs": [],
   "source": [
    "@sj.simple\n",
    "def labor_supply(Lbar, w):\n",
    "    L = Lbar * w**0.5\n",
    "    return L"
   ]
  },
  {
   "cell_type": "markdown",
   "id": "c142896b",
   "metadata": {},
   "source": [
    "In equilibrium, the real wage has to equal the marginal product of labor MPL. Let's also write this as another very simple SimpleBlock:"
   ]
  },
  {
   "cell_type": "code",
   "execution_count": 21,
   "id": "b71ae75d",
   "metadata": {},
   "outputs": [],
   "source": [
    "@sj.simple\n",
    "def wage_mpl(w, MPL):\n",
    "    labor_mkt = w - MPL\n",
    "    return labor_mkt"
   ]
  },
  {
   "cell_type": "markdown",
   "id": "22078fcc",
   "metadata": {},
   "source": [
    "We now **combine** these blocks to describe the economy. We can provide the blocks to the toolkit in any order:"
   ]
  },
  {
   "cell_type": "code",
   "execution_count": 22,
   "id": "2c6b68d1",
   "metadata": {},
   "outputs": [
    {
     "data": {
      "text/plain": [
       "<CombinedBlock 'model'>"
      ]
     },
     "execution_count": 22,
     "metadata": {},
     "output_type": "execute_result"
    }
   ],
   "source": [
    "model = sj.combine([production, labor_supply, wage_mpl], name='model')\n",
    "model"
   ]
  },
  {
   "cell_type": "markdown",
   "id": "cacb5535",
   "metadata": {},
   "source": [
    "We then get a `CombinedBlock`, another type of block. The toolkit will automatically sort the blocks internally in the order in which they need to be evaluated, and treat them as a combined whole whenever anything is called on the combinedblock. (We sometimes also use `sj.create_model`, which is mostly just an alias for `sj.combine`.)"
   ]
  },
  {
   "cell_type": "code",
   "execution_count": 23,
   "id": "6f8b516b",
   "metadata": {},
   "outputs": [
    {
     "data": {
      "text/plain": [
       "[<SimpleBlock 'labor_supply'>,\n",
       " <SimpleBlock 'production'>,\n",
       " <SimpleBlock 'wage_mpl'>]"
      ]
     },
     "execution_count": 23,
     "metadata": {},
     "output_type": "execute_result"
    }
   ],
   "source": [
    "model.blocks"
   ]
  },
  {
   "cell_type": "markdown",
   "id": "29ab0ed3",
   "metadata": {},
   "source": [
    "We note that `L` is now an output rather than an input, because the first block produces it:"
   ]
  },
  {
   "cell_type": "code",
   "execution_count": 24,
   "id": "01abc17d",
   "metadata": {},
   "outputs": [
    {
     "name": "stdout",
     "output_type": "stream",
     "text": [
      "['A', 'K', 'alpha', 'Lbar', 'w']\n",
      "['Y', 'MPK', 'MPL', 'L', 'labor_mkt']\n"
     ]
    }
   ],
   "source": [
    "print(model.inputs)\n",
    "print(model.outputs)"
   ]
  },
  {
   "cell_type": "markdown",
   "id": "c12ae080",
   "metadata": {},
   "source": [
    "Let's calibrate the model such that `L` and `Y` are both normalized to 1, and `MPK` is 0.1. Since `model` is a block, just another kind of block, we can call all the same methods on it."
   ]
  },
  {
   "cell_type": "code",
   "execution_count": 25,
   "id": "e996c88f",
   "metadata": {},
   "outputs": [
    {
     "data": {
      "text/plain": [
       "<SteadyStateDict: ['A', 'K', 'L', 'alpha', 'Lbar', 'w', 'Y', 'MPK', 'MPL', 'labor_mkt']>"
      ]
     },
     "execution_count": 25,
     "metadata": {},
     "output_type": "execute_result"
    }
   ],
   "source": [
    "ss = model.solve_steady_state(calibration,\n",
    "                              unknowns={'A': 1, 'alpha': 0.5, 'Lbar': 1, 'w': 1},\n",
    "                              targets={'Y': 1, 'L': 1, 'MPK': 0.1, 'labor_mkt': 0})\n",
    "ss"
   ]
  },
  {
   "cell_type": "markdown",
   "id": "20f6b53c",
   "metadata": {},
   "source": [
    "Now suppose we want to ask how TFP or labor supply shocks affect labor and output in equilibrium. We still need to enforce that w and MPL equal (i.e. labor market equilibrium), so to get the Jacobians of these on `A`, we need to call `.solve_jacobian()`, with `labor_mkt` as a target:"
   ]
  },
  {
   "cell_type": "code",
   "execution_count": 26,
   "id": "33753d4c",
   "metadata": {},
   "outputs": [
    {
     "data": {
      "text/plain": [
       "<JacobianDict outputs=['w', 'Y', 'L'], inputs=['A', 'Lbar']>"
      ]
     },
     "execution_count": 26,
     "metadata": {},
     "output_type": "execute_result"
    }
   ],
   "source": [
    "T = 400\n",
    "J = model.solve_jacobian(ss, inputs=['A', 'Lbar'], outputs=['Y', 'L', 'w'], unknowns=['w'], targets=['labor_mkt'], T=T)\n",
    "J"
   ]
  },
  {
   "cell_type": "markdown",
   "id": "603db380",
   "metadata": {},
   "source": [
    "This doesn't return `SimpleSparse`, although the matrices here turn out to be very simple (all diagonal), because the solving process uses actual matrices. Let's look, for instance, at how output is affected by TFP in equilibrium:"
   ]
  },
  {
   "cell_type": "code",
   "execution_count": 27,
   "id": "9f7c38bf",
   "metadata": {},
   "outputs": [
    {
     "data": {
      "text/plain": [
       "array([[2.176, 0.   , 0.   , 0.   , 0.   ],\n",
       "       [0.   , 2.176, 0.   , 0.   , 0.   ],\n",
       "       [0.   , 0.   , 2.176, 0.   , 0.   ],\n",
       "       [0.   , 0.   , 0.   , 2.176, 0.   ],\n",
       "       [0.   , 0.   , 0.   , 0.   , 2.176]])"
      ]
     },
     "execution_count": 27,
     "metadata": {},
     "output_type": "execute_result"
    }
   ],
   "source": [
    "J['Y', 'A'][:5, :5].round(3)"
   ]
  },
  {
   "cell_type": "markdown",
   "id": "b14cdd1e",
   "metadata": {},
   "source": [
    "This change reflects a combination of the sensitivity of Y to L, the sensitivity of L to w, and the market-clearing change in w in response to A, plus the direct effect of A on Y. We could manually ask for the Jacobians ourselves if we wanted and then chain them together, but this would be a lot more work:"
   ]
  },
  {
   "cell_type": "code",
   "execution_count": 28,
   "id": "bc0deca7",
   "metadata": {},
   "outputs": [
    {
     "data": {
      "text/plain": [
       "array([[2.176, 0.   , 0.   , 0.   , 0.   ],\n",
       "       [0.   , 2.176, 0.   , 0.   , 0.   ],\n",
       "       [0.   , 0.   , 2.176, 0.   , 0.   ],\n",
       "       [0.   , 0.   , 0.   , 2.176, 0.   ],\n",
       "       [0.   , 0.   , 0.   , 0.   , 2.176]])"
      ]
     },
     "execution_count": 28,
     "metadata": {},
     "output_type": "execute_result"
    }
   ],
   "source": [
    "Y_AL = production.jacobian(ss, inputs=['L', 'A'], outputs=['Y'])\n",
    "Y_A, Y_L = Y_AL['Y', 'A'], Y_AL['Y', 'L']\n",
    "L_w = labor_supply.jacobian(ss, inputs=['w'], outputs=['L'])['L', 'w']\n",
    "L_A = L_w @ J['w', 'A']\n",
    "Y_AL = Y_L @ L_A + Y_A\n",
    "Y_AL[:5, :5].round(3)"
   ]
  },
  {
   "cell_type": "markdown",
   "id": "af5ea30c",
   "metadata": {},
   "source": [
    "`.impulse_linear()` and `.impulse_nonlinear()` can similarly be extended to `.solve_impulse_linear()` and `.solve_impulse_nonlinaer()` by adding unknowns and targets."
   ]
  },
  {
   "cell_type": "markdown",
   "id": "29f36c58",
   "metadata": {},
   "source": [
    "# Heterogeneous-agent example\n",
    "Yesterday, Ludwig had us manually specify a HetBlock. A few HetBlocks, however, are included in the SSJ toolkit itself as references. We can try to adapt the SIM hetblock:"
   ]
  },
  {
   "cell_type": "code",
   "execution_count": 29,
   "id": "63422986",
   "metadata": {},
   "outputs": [
    {
     "name": "stdout",
     "output_type": "stream",
     "text": [
      "<HetBlock 'hh'>\n",
      "['a_grid', 'y', 'r', 'beta', 'eis', 'Pi']\n",
      "['A', 'C']\n"
     ]
    }
   ],
   "source": [
    "hh = sj.hetblocks.hh_sim.hh\n",
    "print(hh)\n",
    "print(hh.inputs)\n",
    "print(hh.outputs)"
   ]
  },
  {
   "cell_type": "markdown",
   "id": "a35d520e",
   "metadata": {},
   "source": [
    "We can go look up the actual body of the HetBlock if desired. It has notation similar to what we used yesterday, but with a few minor differences: it says `y` where we had `z` (they mean the same thing, after-tax income by state), and `r` where we had `rp` (they mean the same thing, ex-post returns).\n",
    "\n",
    "Like before, we'll attach a hetinput that produces after-tax income in terms of the underlying endowment `e` and aggregate after-tax income `Z`."
   ]
  },
  {
   "cell_type": "code",
   "execution_count": 30,
   "id": "b77a8678",
   "metadata": {},
   "outputs": [
    {
     "name": "stdout",
     "output_type": "stream",
     "text": [
      "['a_grid', 'r', 'beta', 'eis', 'Pi', 'e', 'Z']\n"
     ]
    }
   ],
   "source": [
    "def income(e, Z):\n",
    "    y = Z * e\n",
    "    return y\n",
    "hh = hh.add_hetinputs([income])\n",
    "print(hh.inputs)"
   ]
  },
  {
   "cell_type": "markdown",
   "id": "e1fecd10",
   "metadata": {},
   "source": [
    "### Calibration\n",
    "Yesterday, we also attached hetinputs that created the grids and income process, so that the toolkit understood how to do these steps itself. Another option is just to supply these directly to the steady state function, which is what we'll do here."
   ]
  },
  {
   "cell_type": "code",
   "execution_count": 31,
   "id": "6760e9ab",
   "metadata": {},
   "outputs": [],
   "source": [
    "a_grid = sj.grids.asset_grid(amin=0, amax=4000, n=400)\n",
    "\n",
    "# prespecify endowment process\n",
    "rho_e = 0.91**(1/4)     # annual rho=0.91 from IKC\n",
    "sd_e = 0.92             # cross-sectional sd from IKC  \n",
    "e_grid, pi_e, Pi_e = sj.utilities.discretize.markov_rouwenhorst(rho_e, sd_e, 11)\n",
    "\n",
    "# prespecify beta process (but not betas themselves yet)\n",
    "q = 0.01        # draw new beta every 25 years\n",
    "pi_b = np.array([1/4, 1/4, 1/4, 1/4])\n",
    "Pi_b = (1-q)*np.eye(4) + q*np.outer(np.ones(4), pi_b)\n",
    "\n",
    "Pi = np.kron(Pi_b, Pi_e)\n",
    "pi = np.kron(pi_b, pi_e)\n",
    "e = np.kron(np.ones(4), e_grid)\n",
    "\n",
    "calibration = dict(r=0.02/4, Z=0.7, eis=1, Pi=Pi, a_grid=a_grid, e=e)\n",
    "\n",
    "# make beta given beta_hi and dbeta\n",
    "def make_beta(beta_hi, dbeta):\n",
    "    # technical detail: add trailing dimension so it works with existing code\n",
    "    beta = np.kron(np.array([beta_hi-3*dbeta, beta_hi-2*dbeta, beta_hi-dbeta, beta_hi]), np.ones(len(pi_e)))[:, np.newaxis]\n",
    "    return beta"
   ]
  },
  {
   "cell_type": "markdown",
   "id": "62ccc8aa",
   "metadata": {},
   "source": [
    "Now we'll try to do the calibration ourselves. Here, we want a bit more control, so we won't use `.solve_steady_state()`, instead just calling `.steady_state()`."
   ]
  },
  {
   "cell_type": "code",
   "execution_count": 32,
   "id": "6b83b86e",
   "metadata": {},
   "outputs": [],
   "source": [
    "A_target = 4 * 5  # 500% of annual GDP, so 2000% of quarterly\n",
    "mpc_target = 0.2\n",
    "\n",
    "def evaluate_calibration(x):\n",
    "    print(x)\n",
    "    try:\n",
    "        beta = make_beta(x[0], x[1])\n",
    "        ss = hh.steady_state({**calibration, 'beta': beta})\n",
    "    except ValueError as e:\n",
    "        # if steady state raises an error, likely because implied assets infinite\n",
    "        return 10000, 0\n",
    "    mpc_labor = hh.jacobian(ss, inputs=['Z'], outputs=['C'], T=2)['C', 'Z'][0, 0]\n",
    "    print(f\"Steady state assets: {ss['A']:.5f}, MPC labor: {mpc_labor:.5f}\")\n",
    "    return ss['A'] - A_target, mpc_labor - mpc_target"
   ]
  },
  {
   "cell_type": "code",
   "execution_count": null,
   "id": "422b859c",
   "metadata": {},
   "outputs": [
    {
     "name": "stdout",
     "output_type": "stream",
     "text": [
      "[1.   0.02]\n",
      "Steady state assets: 10.40263, MPC labor: 0.26605\n",
      "[1.   0.02]\n",
      "Steady state assets: 10.40263, MPC labor: 0.26605\n",
      "[1.   0.02]\n",
      "Steady state assets: 10.40263, MPC labor: 0.26605\n",
      "[1.00000001 0.02      ]\n",
      "Steady state assets: 10.40266, MPC labor: 0.26605\n",
      "[1.   0.02]\n",
      "Steady state assets: 10.40263, MPC labor: 0.26605\n",
      "[1.00378224 0.01794788]\n",
      "[0.99990359 0.01455798]\n",
      "Steady state assets: 13.66864, MPC labor: 0.16256\n",
      "[0.99994135 0.0165279 ]\n",
      "Steady state assets: 12.14742, MPC labor: 0.19094\n",
      "[0.99995664 0.01715931]\n",
      "Steady state assets: 11.76854, MPC labor: 0.19953\n",
      "[0.9999036  0.01455798]\n",
      "Steady state assets: 13.66869, MPC labor: 0.16256\n",
      "[0.99990359 0.01455798]\n",
      "Steady state assets: 13.66864, MPC labor: 0.16256\n",
      "[1.00015279 0.01372606]\n",
      "Steady state assets: 15.49744, MPC labor: 0.11539\n",
      "[1.00065122 0.01206234]\n",
      "Steady state assets: 20.83274, MPC labor: 0.08723\n",
      "[1.00156696 0.01564027]\n",
      "Steady state assets: 19.93487, MPC labor: 0.15498\n",
      "[1.00229469 0.01800104]\n",
      "Steady state assets: 21.56323, MPC labor: 0.18176\n",
      "[1.00230541 0.01926434]\n",
      "Steady state assets: 20.10905, MPC labor: 0.19976\n",
      "[1.00156697 0.01564027]\n",
      "Steady state assets: 19.93497, MPC labor: 0.15498\n",
      "[1.00156696 0.01564027]\n",
      "Steady state assets: 19.93487, MPC labor: 0.15498\n",
      "[1.00183137 0.01670507]\n",
      "Steady state assets: 20.09669, MPC labor: 0.16980\n",
      "[1.00169791 0.01617807]\n",
      "Steady state assets: 19.97605, MPC labor: 0.16413\n",
      "[1.00195519 0.01727309]\n",
      "Steady state assets: 20.14621, MPC labor: 0.17661\n",
      "[1.00182158 0.01674536]\n",
      "Steady state assets: 19.97813, MPC labor: 0.17050\n",
      "[1.00207035 0.01787436]\n",
      "Steady state assets: 20.14429, MPC labor: 0.18328\n",
      "[1.00194084 0.01732895]\n",
      "Steady state assets: 19.97958, MPC labor: 0.17761\n",
      "[1.00218084 0.01849079]\n",
      "Steady state assets: 20.14164, MPC labor: 0.19019\n",
      "[1.00205564 0.01792805]\n",
      "Steady state assets: 19.98100, MPC labor: 0.18421\n",
      "[1.00217195 0.01852199]\n",
      "Steady state assets: 20.04582, MPC labor: 0.19076\n",
      "[1.00211262 0.01822898]\n",
      "Steady state assets: 19.99524, MPC labor: 0.18750\n",
      "[1.00222451 0.01883768]\n",
      "Steady state assets: 20.03656, MPC labor: 0.19435\n",
      "[1.00216715 0.01853782]\n",
      "Steady state assets: 19.99557, MPC labor: 0.19104\n",
      "[1.00227653 0.01915444]\n",
      "Steady state assets: 20.03414, MPC labor: 0.19801\n",
      "[1.0022205  0.01885023]\n",
      "Steady state assets: 19.99567, MPC labor: 0.19458\n",
      "[1.00230311 0.01933058]\n",
      "Steady state assets: 20.02186, MPC labor: 0.20079\n",
      "[1.00227295 0.01916532]\n",
      "Steady state assets: 19.99820, MPC labor: 0.19822\n",
      "[1.00229865 0.01931928]\n",
      "Steady state assets: 20.00404, MPC labor: 0.20069\n",
      "[1.00229113 0.01927621]\n",
      "Steady state assets: 19.99996, MPC labor: 0.20015\n",
      "[1.00228971 0.01926737]\n",
      "Steady state assets: 19.99993, MPC labor: 0.20005\n",
      "[1.00228912 0.01926366]\n",
      "Steady state assets: 19.99999, MPC labor: 0.20000\n",
      "[1.00228911 0.01926363]\n",
      "Steady state assets: 20.00000, MPC labor: 0.20000\n",
      "[1.00228911 0.01926363]\n",
      "Steady state assets: 20.00000, MPC labor: 0.20000\n"
     ]
    }
   ],
   "source": [
    "x0 = np.array([1.0, 0.02])\n",
    "res = optimize.root(lambda x: evaluate_calibration(x), x0, tol=1E-9)"
   ]
  },
  {
   "cell_type": "code",
   "execution_count": 36,
   "id": "b0dc92af",
   "metadata": {},
   "outputs": [],
   "source": [
    "calibration['beta'] = make_beta(res.x[0], res.x[1])"
   ]
  },
  {
   "cell_type": "markdown",
   "id": "39c086e2",
   "metadata": {},
   "source": [
    "### Fiscal policy in equilibrium\n",
    "Now suppose that we want to solve for the response to a fiscal shock, like yesterday, but that we don't want to manually work with the Intertemporal Keynesian Cross.\n",
    "\n",
    "We'll instead define a `fiscal` block and `mkt_clearing` block:"
   ]
  },
  {
   "cell_type": "code",
   "execution_count": 39,
   "id": "239dad6a",
   "metadata": {},
   "outputs": [],
   "source": [
    "@sj.simple\n",
    "def fiscal(B, r, G, Y):\n",
    "    T = (1 + r) * B(-1) + G - B  # total tax burden\n",
    "    Z = Y - T\n",
    "    deficit = G - T\n",
    "    return T, Z, deficit\n",
    "\n",
    "@sj.simple\n",
    "def mkt_clearing(A, B, Y, C, G):\n",
    "    asset_mkt = A - B\n",
    "    goods_mkt = Y - C - G\n",
    "    return asset_mkt, goods_mkt"
   ]
  },
  {
   "cell_type": "markdown",
   "id": "7c1c9ded",
   "metadata": {},
   "source": [
    "Get a combined block, specify the steady state that's consistent with our household side, and verify that market clearing holds in the steady state:"
   ]
  },
  {
   "cell_type": "code",
   "execution_count": 47,
   "id": "b8bebead",
   "metadata": {},
   "outputs": [
    {
     "data": {
      "text/plain": [
       "(-4.857083624187908e-08, -3.961540618324655e-07)"
      ]
     },
     "execution_count": 47,
     "metadata": {},
     "output_type": "execute_result"
    }
   ],
   "source": [
    "calibration.update(dict(B=20, Y=1, G=0.2))\n",
    "model = sj.combine([hh, fiscal, mkt_clearing])\n",
    "ss = model.steady_state(calibration)\n",
    "ss['asset_mkt'], ss['goods_mkt']"
   ]
  },
  {
   "cell_type": "markdown",
   "id": "cdeadf7c",
   "metadata": {},
   "source": [
    "Now we can supply an arbitrary sequence of bonds and ask `.solve_impulse_linear()` to get us the effect of the corresponding deficit-financed tax cut on output. It will calculate Jacobians, solve the system, etc. in the background:"
   ]
  },
  {
   "cell_type": "code",
   "execution_count": 52,
   "id": "55bb890c",
   "metadata": {},
   "outputs": [],
   "source": [
    "dB = 0.95**np.arange(300) # deficit-financed tax cut at date 0, immediately start repaying\n",
    "imp = model.solve_impulse_linear(ss, inputs={'B': dB}, outputs=['Y', 'T'],\n",
    "                                unknowns=['Y'], targets=['asset_mkt'])"
   ]
  },
  {
   "cell_type": "code",
   "execution_count": 53,
   "id": "e42fe8be",
   "metadata": {},
   "outputs": [
    {
     "data": {
      "text/plain": [
       "<matplotlib.legend.Legend at 0x1479481c0>"
      ]
     },
     "execution_count": 53,
     "metadata": {},
     "output_type": "execute_result"
    },
    {
     "data": {
      "image/png": "[encoded data removed]",
      "text/plain": [
       "<Figure size 640x480 with 1 Axes>"
      ]
     },
     "metadata": {},
     "output_type": "display_data"
    }
   ],
   "source": [
    "plt.plot(imp['Y'][:50], label='Y')\n",
    "plt.plot(imp['T'][:50], label='T')\n",
    "plt.legend()"
   ]
  }
 ],
 "metadata": {
  "kernelspec": {
   "display_name": "base",
   "language": "python",
   "name": "python3"
  },
  "language_info": {
   "codemirror_mode": {
    "name": "ipython",
    "version": 3
   },
   "file_extension": ".py",
   "mimetype": "text/x-python",
   "name": "python",
   "nbconvert_exporter": "python",
   "pygments_lexer": "ipython3",
   "version": "3.10.13"
  }
 },
 "nbformat": 4,
 "nbformat_minor": 5
}
