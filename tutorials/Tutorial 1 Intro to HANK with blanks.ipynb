{
 "cells": [
  {
   "cell_type": "markdown",
   "metadata": {
    "pycharm": {
     "name": "#%% md\n"
    }
   },
   "source": [
    "# Tutorial 1: Fiscal and Monetary Policy in the Canonical HANK Model\n",
    "\n",
    "NBER Heterogeneous-Agent Macro Workshop\n",
    "\n",
    "June 2025"
   ]
  },
  {
   "cell_type": "markdown",
   "metadata": {
    "pycharm": {
     "name": "#%% md\n"
    }
   },
   "source": [
    "This notebook aims to solve for the effects of fiscal and monetary policy in the canonical HANK model we introduced in the lectures.\n",
    "\n",
    "Approach:\n",
    "- We will set up the \"household block\" of the model.\n",
    "- We use the model to compute household jacobians, such as the iMPC matrix.\n",
    "- We solve IKC like equations (either in goods or asset market) to compute IRFs to fiscal and monetary policy shocks.\n",
    "\n",
    "Tomorrow, we will show you how this can be simplified using the full `sequence-jacobian` toolbox.\n",
    "\n",
    "The first step is to import packages we'll need for this notebook."
   ]
  },
  {
   "cell_type": "code",
   "execution_count": null,
   "metadata": {
    "jupyter": {
     "is_executing": true
    },
    "pycharm": {
     "name": "#%%\n"
    }
   },
   "outputs": [],
   "source": [
    "import numpy as np  # numpy helps us perform linear algebra calculations\n",
    "import matplotlib.pyplot as plt  # helps us plot\n",
    "import sequence_jacobian as sj  # SSJ will allow us to define blocks, models, compute IRFs, etc"
   ]
  },
  {
   "cell_type": "markdown",
   "metadata": {
    "pycharm": {
     "name": "#%% md\n"
    }
   },
   "source": [
    "Before we start, we'll define some basic model parameters we need below. We store them in the `calibration` dictionary:"
   ]
  },
  {
   "cell_type": "code",
   "execution_count": null,
   "metadata": {
    "ExecuteTime": {
     "end_time": "2025-06-04T19:05:03.618569Z",
     "start_time": "2025-06-04T19:05:03.597088Z"
    },
    "pycharm": {
     "name": "#%%\n"
    }
   },
   "outputs": [],
   "source": [
    "calibration = {'eis': 1,  # EIS\n",
    "               'rho_e': 0.91**(1/4),  # persistence, annual rho=0.91 from IKC\n",
    "               'sd_e': 0.92,  # cross-sectional std deviation of income from IKC\n",
    "               'min_a': 0.,  # Minimum asset level on the grid\n",
    "               'max_a': 4_000,  # Maximum asset level on the grid\n",
    "               'n_a': 400,  # Number of asset grid points\n",
    "               'n_e': 11,  # number of income grid points\n",
    "               'rp': 0.02/4, # interest rate\n",
    "               'dbeta': 0.019263626467368056,  # difference between betas\n",
    "               'beta_hi': 1.0022891149369337,  # highest beta\n",
    "               'Z': 0.7  # total after tax labor income / GDP\n",
    "               }"
   ]
  },
  {
   "cell_type": "markdown",
   "metadata": {
    "pycharm": {
     "name": "#%% md\n"
    }
   },
   "source": [
    "## (1) Setting up the household block"
   ]
  },
  {
   "cell_type": "markdown",
   "metadata": {
    "pycharm": {
     "name": "#%% md\n"
    }
   },
   "source": [
    "First, we will set up a `HetBlock` that represents our heterogeneous household block.\n",
    "\n",
    "For the sake of clarity, we directly write these in the code block below, but since it's a really standard `Block`, we can also import it directly from within `sequence-jacobian` by calling `from sj.hetblocks.hh_sim import hh_init, hh`."
   ]
  },
  {
   "cell_type": "markdown",
   "metadata": {},
   "source": [
    "Pieces here:\n",
    " - `hh_init` initializies the values for the backward iteration, which is `Va`, the derivative of the value function with respect to assets, defined over a joint grid of income and asset states. We always write the grids as (income state, asset state).\n",
    " - `hh_raw` is a single backward step of the endogenous gridpoints method, covered in an earlier session.\n",
    " - the decorator `@sj.het` turns the subsequent function definition into a `HetBlock`. We'll have similar decorators below to define blocks."
   ]
  },
  {
   "cell_type": "code",
   "execution_count": null,
   "metadata": {
    "pycharm": {
     "name": "#%%\n"
    }
   },
   "outputs": [],
   "source": [
    "\n",
    "\n",
    "\n",
    "\n",
    "\n",
    "\n",
    "\n",
    "\n",
    "\n",
    "\n",
    "\n",
    "\n",
    "\n",
    "\n",
    "\n",
    "\n",
    "\n"
   ]
  },
  {
   "cell_type": "markdown",
   "metadata": {},
   "source": [
    "We just created our first block! We'll think much more about blocks later in the workshop.\n",
    "\n",
    "As a block, it has \"inputs\" and \"outputs\"."
   ]
  },
  {
   "cell_type": "code",
   "execution_count": null,
   "metadata": {},
   "outputs": [],
   "source": [
    "\n",
    "\n"
   ]
  },
  {
   "cell_type": "markdown",
   "metadata": {},
   "source": [
    "We see that some of these inputs are vectors, such as `a_grid` and `z`. We typically try to define them within the `HetBlock` itself. We can do so by attaching a `hetinput` function that constructs these inputs \"in-house\" so to speak."
   ]
  },
  {
   "cell_type": "markdown",
   "metadata": {
    "pycharm": {
     "name": "#%% md\n"
    }
   },
   "source": [
    "A `hetinput` is a function, which takes either scalar- or vector-valued inputs that are generated from other upstream `hetinput`s, and yields vector-valued outputs that feed into its associated `HetBlock`.\n",
    "\n",
    "- `make_grids` instantiates the productivity, beta, and assets grids:\n",
    "    - productivity grid `e_grid` is from the Rouwenhorst method for discretizing AR(1) processes.\n",
    "    - discount factor grid `beta` is assuming with prob 0.01 each period, you get a new beta draw.\n",
    "    - asset grid `a_grid` uses a non-uniform spacing concentrating grid points near the bottom, where policies exhibit the most curvature.\n",
    "\n",
    "- `income` converts the productivity grid `e_grid` into the post-tax income grid `z`.\n",
    "\n",
    "Note: in the `.markov_rouwenhorst` function, we normalize $\\mathbb{E}[e] = 1$, which is consistent with the exogenous labor supply $N = 1$ in this model."
   ]
  },
  {
   "cell_type": "markdown",
   "metadata": {},
   "source": [
    "We define `hh` as a `HetBlock` that has these additional `hetinputs`."
   ]
  },
  {
   "cell_type": "code",
   "execution_count": null,
   "metadata": {
    "pycharm": {
     "name": "#%%\n"
    }
   },
   "outputs": [],
   "source": [
    "def make_grids(rho_e, sd_e, n_e, min_a, max_a, n_a, dbeta, beta_hi):\n",
    "    \n",
    "    # make asset grid\n",
    "    a_grid = sj.grids.asset_grid(min_a, max_a, n_a)\n",
    "    \n",
    "    # make productivity grid\n",
    "    e_grid, pi_e, Pi_e = sj.grids.markov_rouwenhorst(rho_e, sd_e, n_e)\n",
    "\n",
    "    # quadruple e_grid in size to accommodate beta heterogeneity with 4 beta's\n",
    "    e_grid = np.kron(np.ones(4), e_grid)\n",
    "    \n",
    "    # make beta grid\n",
    "    beta = np.array([beta_hi-3*dbeta, beta_hi-2*dbeta, beta_hi-dbeta, beta_hi])\n",
    "    \n",
    "    # repeat beta grid for each productivity state\n",
    "    beta = np.kron(beta, np.ones(len(pi_e)))\n",
    "    \n",
    "    # transition matrix and stationary distribution for beta grid, with transition prob q\n",
    "    #   and stationary distribution 1/4 in each state\n",
    "    q = 0.01  # transition probability (once in 25 years on average) \n",
    "    pi_b = np.array([1/4, 1/4, 1/4, 1/4])\n",
    "    Pi_b = (1 - q) * np.eye(4) + q * np.outer(np.ones(4), pi_b)\n",
    "    \n",
    "    # put together big stationary distribution and transition matrix\n",
    "    pi = np.kron(pi_b, pi_e)\n",
    "    Pi = np.kron(Pi_b, Pi_e)\n",
    "    \n",
    "    return a_grid, e_grid, beta, pi, Pi\n",
    "\n",
    "def income(Z, e_grid):\n",
    "    z = Z * e_grid\n",
    "    return z\n",
    "\n"
   ]
  },
  {
   "cell_type": "markdown",
   "metadata": {},
   "source": [
    "Let's see what the new block does."
   ]
  },
  {
   "cell_type": "code",
   "execution_count": null,
   "metadata": {},
   "outputs": [],
   "source": [
    "\n",
    "\n"
   ]
  },
  {
   "cell_type": "markdown",
   "metadata": {},
   "source": [
    "We see that the inputs changed: Now `a_grid` and `e_grid` are no longer inputs. Instead, `Z`, total after tax income, is among the inputs. `Z` will be the only input that will change in GE in our fiscal policy experiments below."
   ]
  },
  {
   "cell_type": "markdown",
   "metadata": {},
   "source": [
    "## (2) Steady state of the household block"
   ]
  },
  {
   "cell_type": "markdown",
   "metadata": {},
   "source": [
    "We need to start our model at some steady state in which the household block is in some stationary allocation. With `hh` being a `HetBlock`, we can simply use the function `steady_state` to evaluate it for a given parameterization."
   ]
  },
  {
   "cell_type": "code",
   "execution_count": null,
   "metadata": {},
   "outputs": [],
   "source": [
    "\n",
    "\n"
   ]
  },
  {
   "cell_type": "markdown",
   "metadata": {},
   "source": [
    "Let's investigate what this `ss` implies for the steady state of the household block."
   ]
  },
  {
   "cell_type": "code",
   "execution_count": null,
   "metadata": {},
   "outputs": [],
   "source": []
  },
  {
   "cell_type": "markdown",
   "metadata": {},
   "source": [
    "We can also go beyond aggregates. By calling `ss.internals` we can extract policy functions and the wealth distribution."
   ]
  },
  {
   "cell_type": "code",
   "execution_count": null,
   "metadata": {},
   "outputs": [],
   "source": [
    "# Wealth distribution\n",
    "\n",
    "\n",
    "plt.plot(a_grid, D.cumsum())\n",
    "plt.ylim([0.2, 1])\n",
    "plt.xlim([0, 20])\n",
    "plt.xlabel('Assets')\n",
    "plt.ylabel('Cumulative distribution')\n",
    "plt.title('CDF of wealth distribution')\n",
    "plt.show()\n",
    "\n",
    "# Consumption policy\n",
    "\n",
    "plt.plot(a_grid, c[5, :], label='5th income state, lowest beta')\n",
    "plt.plot(a_grid, c[11*1 + 5, :], label='5th income state, second lowest beta')\n",
    "plt.plot(a_grid, c[11*2 + 5, :], label='5th income state, second highest beta')\n",
    "plt.plot(a_grid, c[11*3 + 5, :], label='5th income state, highest beta')\n",
    "plt.ylim([0.2, 1])\n",
    "plt.xlim([0, 5])\n",
    "plt.xlabel('Assets')\n",
    "plt.ylabel('Consumption policy')\n",
    "plt.title('Consumption policy functions')\n",
    "plt.legend(frameon=False)\n",
    "plt.show()"
   ]
  },
  {
   "cell_type": "markdown",
   "metadata": {},
   "source": [
    "## (3) Computing Jacobians"
   ]
  },
  {
   "cell_type": "markdown",
   "metadata": {},
   "source": [
    "We can compute Jacobians using the fake news algorithm directly from `hh`."
   ]
  },
  {
   "cell_type": "code",
   "execution_count": null,
   "metadata": {},
   "outputs": [],
   "source": [
    "\n",
    "\n",
    "\n",
    "\n"
   ]
  },
  {
   "cell_type": "markdown",
   "metadata": {},
   "source": [
    "Let's plot a few columns to see what we got here."
   ]
  },
  {
   "cell_type": "code",
   "execution_count": null,
   "metadata": {},
   "outputs": [],
   "source": [
    "\n",
    "\n",
    "\n",
    "\n"
   ]
  },
  {
   "cell_type": "markdown",
   "metadata": {},
   "source": [
    "## (4) Fiscal policy"
   ]
  },
  {
   "cell_type": "markdown",
   "metadata": {},
   "source": [
    "Next, we solve for the IRF to a fiscal policy shock.\n",
    "\n",
    "To do so, we describe a path for debt that we like (some AR(2)) and then compute the associated tax path that is consistent with the debt path, i.e. has zero NPV."
   ]
  },
  {
   "cell_type": "code",
   "execution_count": null,
   "metadata": {},
   "outputs": [],
   "source": [
    "\n",
    "\n",
    "\n",
    "\n",
    "\n",
    "\n",
    "\n",
    "\n",
    "\n",
    "\n",
    "\n",
    "\n",
    "\n",
    "\n",
    "\n"
   ]
  },
  {
   "cell_type": "markdown",
   "metadata": {},
   "source": [
    "Let's plot the paths of `dT` and `dB`?"
   ]
  },
  {
   "cell_type": "code",
   "execution_count": null,
   "metadata": {},
   "outputs": [],
   "source": [
    "# make 1 x 2 panel figure showing dB and dT from 0 to 25\n",
    "plt.figure(figsize=(12, 6))\n",
    "plt.subplot(1, 2, 1)\n",
    "\n",
    "plt.title('Debt shock')\n",
    "plt.ylabel('pp. of GDP')\n",
    "plt.subplot(1, 2, 2)\n",
    "\n",
    "plt.axhline(0, color='k', linestyle='--')\n",
    "plt.title('Tax shock')\n",
    "plt.xlabel('Quarter')\n",
    "plt.ylabel('pp. of GDP')\n",
    "plt.tight_layout()"
   ]
  },
  {
   "cell_type": "markdown",
   "metadata": {},
   "source": [
    "Now we are ready to solve for output. We will do so in two different ways:\n",
    "- naive way $d\\mathbf Y = (\\mathbf I - \\mathbf M)^{-1} (-\\mathbf M d\\mathbf T)$\n",
    "- using asset market clearing, $d\\mathbf Y = \\mathbf A^{-1} d\\mathbf B + d\\mathbf T$ (which is the same as using the $\\mathcal{M}$ matrix)"
   ]
  },
  {
   "cell_type": "code",
   "execution_count": null,
   "metadata": {},
   "outputs": [],
   "source": [
    "\n",
    "\n",
    "\n",
    "\n"
   ]
  },
  {
   "cell_type": "markdown",
   "metadata": {},
   "source": [
    "Plot the different output responses and compare"
   ]
  },
  {
   "cell_type": "code",
   "execution_count": null,
   "metadata": {},
   "outputs": [],
   "source": [
    "\n",
    "\n",
    "plt.xlabel('Quarter')\n",
    "plt.ylabel('Output response')\n",
    "plt.legend(frameon=False);"
   ]
  },
  {
   "cell_type": "markdown",
   "metadata": {},
   "source": [
    "Reassuringly, the two give the same response. Still, numerically, it is the generally best practice to use asset market clearing (despite all the intuition and analytical results we can get from the IKC!)."
   ]
  },
  {
   "cell_type": "markdown",
   "metadata": {},
   "source": [
    "Next, we compute (using closed form expressions) the responses in the RA and TA models.\n",
    "\n",
    " - For the RA model, it's just zero (due to Ricardian equivalence)\n",
    "- For the TA model, we have $$dY_t = dG_t + \\frac{\\lambda}{1 - \\lambda} (dG_t - dT_t) = - \\frac{\\lambda}{1 - \\lambda} dT_t $$ where $\\lambda$ is the share of hand-to-mouth agents in the TA model. This is because the TA model has a share $\\lambda$ of hand-to-mouth agents. We get $\\lambda$ from demanding that it hits a 0.20 average MPC, that is, $$(1 - \\lambda) \\left(1 - \\frac{1}{1 + r^p}\\right) + \\lambda = M_{0,0}=0.20$$  "
   ]
  },
  {
   "cell_type": "code",
   "execution_count": null,
   "metadata": {},
   "outputs": [],
   "source": [
    "# RA response is zero because of Ricardian equivalence\n",
    "dY_ra = np.zeros(T)\n",
    "\n",
    "# Get the RA MPC: Just 1 - beta\n",
    "mpc_ra = (1 - 1/(1+ss['rp']))\n",
    "\n",
    "# TA Model:\n",
    "# Get the share of hand-to-mouth agents\n",
    "lam = (M[0, 0] - mpc_ra) / (1 - mpc_ra)\n",
    "print(f\"Share of hand-to-mouth agents in TA model: {lam}\")\n",
    "\n",
    "# Compute the TA output response\n",
    "dY_ta = lam / (1 - lam) * (- dT)"
   ]
  },
  {
   "cell_type": "markdown",
   "metadata": {},
   "source": [
    "Let's compare the responses across models."
   ]
  },
  {
   "cell_type": "code",
   "execution_count": null,
   "metadata": {},
   "outputs": [],
   "source": [
    "plt.plot(dY_asset[:40], label='Het. agents', color='C0')\n",
    "plt.plot(dY_ta[:40], label='Two agents', color='C1')\n",
    "plt.plot(dY_ra[:40], label='Rep. agent', color='C3')\n",
    "plt.xlabel('Quarter')\n",
    "plt.ylabel('Output response')\n",
    "plt.legend(frameon=False);"
   ]
  },
  {
   "cell_type": "markdown",
   "metadata": {},
   "source": [
    "We confirm that the heterogeneous agent response lies significantly above the representative agent response, and the two-agent model is somewhere in between."
   ]
  },
  {
   "cell_type": "code",
   "execution_count": null,
   "metadata": {},
   "outputs": [],
   "source": [
    "npv_ta = np.sum(dY_ta * (1 + ss['rp']) ** (-np.arange(T)))\n",
    "npv_ha = np.sum(dY_asset * (1 + ss['rp']) ** (-np.arange(T)))\n",
    "print(f\"NPV of TA response: {npv_ta:.2f}, NPV of HA response: {npv_ha:.2f}\")"
   ]
  },
  {
   "cell_type": "markdown",
   "metadata": {},
   "source": [
    "## (5) Monetary policy"
   ]
  },
  {
   "cell_type": "markdown",
   "metadata": {},
   "source": [
    "Next, we feed in a basic monetary policy shock.\n",
    "\n",
    "To do so, we specify an AR(1) interest rate shock `dr`. Notice that the ex-post interest rate is just equal to `dr`, but shifted by one period, giving `drp`."
   ]
  },
  {
   "cell_type": "code",
   "execution_count": null,
   "metadata": {},
   "outputs": [],
   "source": [
    "\n",
    "\n"
   ]
  },
  {
   "cell_type": "markdown",
   "metadata": {},
   "source": [
    "Since we have government debt, we have to specify what the government does in response to the interest rate shock. Here, we keep it simple: The government keeps debt repayment $(1 + r^p_t) B_{t-1}$ constant.\n",
    "\n",
    "To do this, it adjusts debt by $$dB_t = - \\frac{dr_t}{1+r} \\cdot B $$ and taxes by $$ dT_t = - dB_t $$"
   ]
  },
  {
   "cell_type": "code",
   "execution_count": null,
   "metadata": {},
   "outputs": [],
   "source": [
    "\n"
   ]
  },
  {
   "cell_type": "markdown",
   "metadata": {},
   "source": [
    "We are ready to solve. Again, using the naive goods market approach and asset market clearing:\n",
    "\n",
    "- Naive approach: $$d\\mathbf Y = (\\mathbf I - \\mathbf M)^{-1} (\\mathbf M^r \\cdot d\\mathbf{r}^p - \\mathbf M \\cdot d\\mathbf T)$$\n",
    "- Asset market approach: $$d\\mathbf Y = \\mathbf A ^{-1}\\left(\\mathbf J^{A,r} \\cdot d\\mathbf{r}^p + \\mathbf d\\mathbf B\\right) + d\\mathbf T$$ where $\\mathbf J^{A,r}$ is the Jacobian of the asset market clearing condition with respect to the interest rate shock, and $\\mathbf J^{A,T}$ is the Jacobian of the asset market clearing condition with respect to the tax shock."
   ]
  },
  {
   "cell_type": "code",
   "execution_count": null,
   "metadata": {},
   "outputs": [],
   "source": [
    "dY_naive = np.linalg.solve(np.eye(T) - M, Mr @ drp - M @ dT_mp)\n",
    "dY_asset = np.linalg.solve(A, - J['A', 'rp'] @ drp + dB_mp) + dT_mp"
   ]
  },
  {
   "cell_type": "markdown",
   "metadata": {},
   "source": [
    "Let's compare the two in a plot."
   ]
  },
  {
   "cell_type": "code",
   "execution_count": null,
   "metadata": {},
   "outputs": [],
   "source": [
    "\n",
    "\n",
    "plt.xlabel('Quarter')\n",
    "plt.ylabel('Output response')\n",
    "plt.legend(frameon=False);"
   ]
  },
  {
   "cell_type": "markdown",
   "metadata": {},
   "source": [
    "Gladly no big difference here either! Still better to use asset market clearing."
   ]
  },
  {
   "cell_type": "markdown",
   "metadata": {},
   "source": [
    "Now compute RA and TA responses:\n",
    "\n",
    "- For the RA model, we start with the Euler equation $$dY_t = dY_{t+1} - \\frac{dr_t}{1 + r^p}$$ and then solve it forward: $$ dY_t^{ra} = - \\frac{1}{1 + r^p} \\sum_{s=0}^{\\infty} dr_{t+s} $$\n",
    "\n",
    "- For the TA model, the RA formula only applies to a share $1 - \\lambda$ of households. The remaining hand-to-mouth households spend out of after-tax income: $$ dY_t = (1 - \\lambda) dY_{t}^{ra} + \\lambda (dY_t - dT_t) $$ Solving for dY_t we get $$ dY_t^{ta} = dY_{t}^{ra} - \\frac{\\lambda}{1 - \\lambda} dT_t $$"
   ]
  },
  {
   "cell_type": "code",
   "execution_count": null,
   "metadata": {},
   "outputs": [],
   "source": [
    "dY_ra = - np.cumsum(dr[::-1])[::-1] / (1 + ss['rp'])\n",
    "dY_ta = dY_ra - lam / (1 - lam) * dT_mp"
   ]
  },
  {
   "cell_type": "markdown",
   "metadata": {},
   "source": [
    "Comparison with RA response shows that it's not too different!"
   ]
  },
  {
   "cell_type": "markdown",
   "metadata": {},
   "source": []
  },
  {
   "cell_type": "code",
   "execution_count": null,
   "metadata": {},
   "outputs": [],
   "source": [
    "plt.plot(dY_asset[:40], label='Het. agents', color='C0')\n",
    "plt.plot(dY_ta[:40], label='Two agents', color='C1')\n",
    "plt.plot(dY_ra[:40], label='Rep. agent', color='C3')\n",
    "plt.axhline(0, color='k', linestyle='--')\n",
    "plt.xlabel('Quarter')\n",
    "plt.ylabel('% of output')\n",
    "plt.title('Output responses to monetary policy shock')\n",
    "plt.legend(frameon=False);"
   ]
  },
  {
   "cell_type": "markdown",
   "metadata": {},
   "source": [
    "## Blocks and Models"
   ]
  },
  {
   "cell_type": "markdown",
   "metadata": {},
   "source": [
    "So far, we have solved models by hand, but using the Jacobians of the `HetBlock`. However, as models get more complicated, this approach becomes cumbersome. Instead, we can use the `sequence-jacobian` toolbox to define a model as a collection of `Block`s, and then solve for steady states and impulse responses.\n",
    "\n",
    "To do so, we introduce two more blocks, so called `SimpleBlock`s."
   ]
  },
  {
   "cell_type": "code",
   "execution_count": null,
   "metadata": {},
   "outputs": [],
   "source": [
    "\n",
    "\n",
    "\n",
    "\n",
    "\n",
    "\n",
    "\n",
    "\n",
    "\n",
    "\n",
    "\n"
   ]
  },
  {
   "cell_type": "markdown",
   "metadata": {},
   "source": [
    "These blocks also have inputs and outputs, but are much simpler explicit functions. Not as complicated as the `HetBlock` above!"
   ]
  },
  {
   "cell_type": "code",
   "execution_count": null,
   "metadata": {},
   "outputs": [],
   "source": [
    "\n",
    "\n"
   ]
  },
  {
   "cell_type": "markdown",
   "metadata": {
    "pycharm": {
     "name": "#%% md\n"
    }
   },
   "source": [
    "Now we can put these `Block`s together to create a model!"
   ]
  },
  {
   "cell_type": "code",
   "execution_count": null,
   "metadata": {
    "pycharm": {
     "name": "#%%\n"
    }
   },
   "outputs": [],
   "source": []
  },
  {
   "cell_type": "markdown",
   "metadata": {},
   "source": [
    "Let's see what kind of animal `ha` is."
   ]
  },
  {
   "cell_type": "code",
   "execution_count": null,
   "metadata": {},
   "outputs": [],
   "source": [
    "\n",
    "\n"
   ]
  },
  {
   "cell_type": "markdown",
   "metadata": {},
   "source": [
    "A model is really a `CombinedBlock` that composes blocks together, like a composition of functions: First, it evaluates the fiscal block, then the household block, and finally the market clearing block, always re-using inputs wherever possible.\n",
    "\n",
    "Many of the inputs are model parameters, such as `eis`, `beta`, `rho_e`, etc. But some are actually aggregates we want to solve (\"unknowns\") for, like `Y`, or shocks (\"exogenous inputs\"), like `B` or `G`. One nice feature in SSJ is that we don't have to distinguish the two at this point. This gives us flexibility to shock whatever we want later on.\n",
    "\n",
    "Some of the outputs are \"targets\", such as `goods_mkt` or `asset_mkt`. By Walras' law, it is sufficient to impose either `asset_mkt` or `goods_mkt`."
   ]
  },
  {
   "cell_type": "markdown",
   "metadata": {},
   "source": [
    "We can now evaluate the steady state of the whole model."
   ]
  },
  {
   "cell_type": "code",
   "execution_count": null,
   "metadata": {},
   "outputs": [],
   "source": [
    "calibration.update({'B': ss['A'],\n",
    "                    'G': 1 - ss['C'],\n",
    "                    'T': ss['rp'] * ss['A'],\n",
    "                    'Y': 1})"
   ]
  },
  {
   "cell_type": "code",
   "execution_count": null,
   "metadata": {},
   "outputs": [],
   "source": []
  },
  {
   "cell_type": "markdown",
   "metadata": {},
   "source": [
    "Check market clearing conditions"
   ]
  },
  {
   "cell_type": "code",
   "execution_count": null,
   "metadata": {},
   "outputs": [],
   "source": [
    "ss_ha['goods_mkt'], ss_ha['asset_mkt']"
   ]
  },
  {
   "cell_type": "markdown",
   "metadata": {},
   "source": [
    "Great! We have a steady state."
   ]
  },
  {
   "cell_type": "markdown",
   "metadata": {},
   "source": [
    "Now we can use SSJ to feed in shocks, e.g. `dB` for the tax cut above:"
   ]
  },
  {
   "cell_type": "code",
   "execution_count": null,
   "metadata": {},
   "outputs": [],
   "source": []
  },
  {
   "cell_type": "markdown",
   "metadata": {},
   "source": [
    "Let's plot this for consumption"
   ]
  },
  {
   "cell_type": "code",
   "execution_count": null,
   "metadata": {},
   "outputs": [],
   "source": [
    "plt.plot(irf_pe['C'][:40], label='Partial equilibrium consumption')\n",
    "plt.axhline(0, color='k', linestyle='--')\n",
    "plt.xlabel('Quarter')\n",
    "plt.ylabel('% of steady state output')\n",
    "plt.legend(frameon=False)\n",
    "plt.title('Fiscal policy shock');"
   ]
  },
  {
   "cell_type": "markdown",
   "metadata": {},
   "source": [
    "But we did not impose asset (or goods) market clearing:"
   ]
  },
  {
   "cell_type": "code",
   "execution_count": null,
   "metadata": {},
   "outputs": [],
   "source": [
    "plt.plot(irf_pe['asset_mkt'][:40], label='Partial equilibrium consumption');\n",
    "plt.axhline(0, color='k', linestyle='--')\n",
    "plt.xlabel('Quarter')\n",
    "plt.title('Partial equilibrium asset market clearing ');"
   ]
  },
  {
   "cell_type": "markdown",
   "metadata": {},
   "source": [
    "Let's clear the asset market by adjusting output `Y` along the way."
   ]
  },
  {
   "cell_type": "code",
   "execution_count": null,
   "metadata": {},
   "outputs": [],
   "source": []
  },
  {
   "cell_type": "code",
   "execution_count": null,
   "metadata": {},
   "outputs": [],
   "source": [
    "plt.plot(irf_pe['C'][:40], label='Partial equilibrium consumption')\n",
    "plt.plot(irf['Y'][:40], label='General equilibrium output')\n",
    "plt.axhline(0, color='k', linestyle='--')\n",
    "plt.xlabel('Quarter')\n",
    "plt.ylabel('% of steady state output')\n",
    "plt.legend(frameon=False)\n",
    "plt.title('Fiscal policy shock');"
   ]
  },
  {
   "cell_type": "markdown",
   "metadata": {},
   "source": [
    "Try other shocks:\n",
    "\n",
    "(1) Patience shock"
   ]
  },
  {
   "cell_type": "code",
   "execution_count": null,
   "metadata": {},
   "outputs": [],
   "source": []
  },
  {
   "cell_type": "code",
   "execution_count": null,
   "metadata": {},
   "outputs": [],
   "source": [
    "plt.plot(irf['Y'][:40], label='General equilibrium output')\n",
    "plt.axhline(0, color='k', linestyle='--')\n",
    "plt.xlabel('Quarter')\n",
    "plt.ylabel('% of steady state output')\n",
    "plt.legend(frameon=False)\n",
    "plt.title('Patience shock');"
   ]
  },
  {
   "cell_type": "markdown",
   "metadata": {},
   "source": [
    "(2) Monetary shock"
   ]
  },
  {
   "cell_type": "code",
   "execution_count": null,
   "metadata": {},
   "outputs": [],
   "source": [
    "\n",
    "\n"
   ]
  },
  {
   "cell_type": "code",
   "execution_count": null,
   "metadata": {},
   "outputs": [],
   "source": [
    "plt.plot(irf['Y'][:40], label='General equilibrium output')\n",
    "plt.axhline(0, color='k', linestyle='--')\n",
    "plt.xlabel('Quarter')\n",
    "plt.ylabel('% of steady state output')\n",
    "plt.legend(frameon=False)\n",
    "plt.title('Monetary shock');"
   ]
  },
  {
   "cell_type": "markdown",
   "metadata": {},
   "source": [
    "(3) Income risk shock"
   ]
  },
  {
   "cell_type": "code",
   "execution_count": null,
   "metadata": {},
   "outputs": [],
   "source": []
  },
  {
   "cell_type": "code",
   "execution_count": null,
   "metadata": {},
   "outputs": [],
   "source": [
    "plt.plot(irf['Y'][:40], label='General equilibrium output')\n",
    "plt.axhline(0, color='k', linestyle='--')\n",
    "plt.xlabel('Quarter')\n",
    "plt.ylabel('% of steady state output')\n",
    "plt.legend(frameon=False)\n",
    "plt.title('Income risk shock');"
   ]
  },
  {
   "cell_type": "code",
   "execution_count": null,
   "metadata": {},
   "outputs": [],
   "source": []
  }
 ],
 "metadata": {
  "kernelspec": {
   "display_name": "Python 3 (ipykernel)",
   "language": "python",
   "name": "python3"
  },
  "language_info": {
   "codemirror_mode": {
    "name": "ipython",
    "version": 3
   },
   "file_extension": ".py",
   "mimetype": "text/x-python",
   "name": "python",
   "nbconvert_exporter": "python",
   "pygments_lexer": "ipython3",
   "version": "3.11.5"
  },
  "vscode": {
   "interpreter": {
    "hash": "1f1962e0a5a49b16f05ceccd9edfd1ddfa43af9231bde40eb73592b73134ae80"
   }
  }
 },
 "nbformat": 4,
 "nbformat_minor": 4
}
